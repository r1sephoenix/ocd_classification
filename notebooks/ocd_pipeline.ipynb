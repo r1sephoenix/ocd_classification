{
 "cells": [
  {
   "cell_type": "markdown",
   "id": "ec36fb96",
   "metadata": {},
   "source": [
    "# OCD‑EEG Pipeline Notebook\n",
    "End‑to‑end training **and** evaluation"
   ]
  },
  {
   "cell_type": "markdown",
   "id": "e51cf630",
   "metadata": {},
   "source": "##  Paths & config"
  },
  {
   "cell_type": "code",
   "id": "f129fc8c",
   "metadata": {
    "ExecuteTime": {
     "end_time": "2025-05-20T13:59:47.683634Z",
     "start_time": "2025-05-20T13:59:47.681205Z"
    }
   },
   "source": [
    "from pathlib import Path\n",
    "import logging, json, joblib, pprint\n",
    "\n",
    "logging.basicConfig(level=logging.INFO, format=\"%(asctime)s %(levelname)s: %(message)s\")\n",
    "\n",
    "DATA_DIR = Path('/Users/ilyamikheev/Downloads/ML') # must contain subfolders per class\n",
    "OUT_DIR  = Path('output')  # notebook output\n",
    "OUT_DIR.mkdir(exist_ok=True)\n",
    "\n",
    "CFG = {\n",
    "    'split': {'test_size': 0.2, 'val_size': 0.1, 'random_state': 42},\n",
    "    'preprocess': {},\n",
    "    'nn': {},           # see trainers/nn_trainer for options\n",
    "    'ml': {'tune': True, 'search': 'random', 'n_iter': 25, 'tune_lgbm': True, 'n_trials': 40},\n",
    "}"
   ],
   "outputs": [],
   "execution_count": 3
  },
  {
   "cell_type": "markdown",
   "id": "94e8c91c",
   "metadata": {},
   "source": "## 1. Load dataset & stratified subject split"
  },
  {
   "cell_type": "code",
   "id": "2b2c68eb",
   "metadata": {
    "ExecuteTime": {
     "end_time": "2025-05-20T14:00:02.559778Z",
     "start_time": "2025-05-20T13:59:47.694943Z"
    }
   },
   "source": [
    "from ocd_classification.data.data_loader import load_dataset, split_dataset\n",
    "\n",
    "raw_data = load_dataset(DATA_DIR, mode='train')\n",
    "train_d, val_d, test_d = split_dataset(raw_data, **CFG['split'])\n",
    "\n",
    "print('Subjects: ', {k: len(v['subject_ids']) for k,v in [('train',train_d),('val',val_d),('test',test_d)]})"
   ],
   "outputs": [
    {
     "name": "stderr",
     "output_type": "stream",
     "text": [
      "/Users/ilyamikheev/PycharmProjects/ocd_classification/src/ocd_classification/data/data_loader.py:48: RuntimeWarning: No coordinate information found for channels ['empty']. Setting channel types to misc. To avoid this warning, set channel types explicitly.\n",
      "  raw = mne.io.read_raw_brainvision(vhdr, preload=True, verbose=False)\n"
     ]
    },
    {
     "name": "stdout",
     "output_type": "stream",
     "text": [
      "Subjects:  {'train': 2, 'val': 2, 'test': 2}\n"
     ]
    },
    {
     "name": "stderr",
     "output_type": "stream",
     "text": [
      "/Users/ilyamikheev/PycharmProjects/ocd_classification/src/ocd_classification/data/data_loader.py:48: RuntimeWarning: Not setting position of 1 misc channel found in montage:\n",
      "['empty']\n",
      "Consider setting the channel types to be of EEG/sEEG/ECoG/DBS/fNIRS using inst.set_channel_types before calling inst.set_montage, or omit these channels when creating your montage.\n",
      "  raw = mne.io.read_raw_brainvision(vhdr, preload=True, verbose=False)\n"
     ]
    }
   ],
   "execution_count": 4
  },
  {
   "cell_type": "markdown",
   "id": "10ae259c",
   "metadata": {},
   "source": "## 2. Preprocess & normalize (train / val)"
  },
  {
   "cell_type": "code",
   "id": "bb60684c",
   "metadata": {
    "ExecuteTime": {
     "end_time": "2025-05-20T14:00:05.767183Z",
     "start_time": "2025-05-20T14:00:02.570585Z"
    }
   },
   "source": [
    "from ocd_classification.preprocessing.preprocess import preprocess_data, normalize_data\n",
    "\n",
    "X_tr, y_tr = preprocess_data(train_d, CFG['preprocess'], mode='train')[:2]\n",
    "X_val, y_val = preprocess_data(val_d, CFG['preprocess'], mode='test')[:2]\n",
    "\n",
    "X_tr, X_val = normalize_data(X_tr, X_val)\n",
    "print(X_tr.shape, X_val.shape)"
   ],
   "outputs": [
    {
     "name": "stdout",
     "output_type": "stream",
     "text": [
      "Used Annotations descriptions: [np.str_('New Segment/'), np.str_('Stimulus/R  1'), np.str_('Stimulus/R  3'), np.str_('Stimulus/R  4'), np.str_('Stimulus/R  7'), np.str_('Stimulus/S  1'), np.str_('Stimulus/S 10'), np.str_('Stimulus/S 11'), np.str_('Stimulus/S 12'), np.str_('Stimulus/S 14'), np.str_('Stimulus/S 15'), np.str_('Stimulus/S 16'), np.str_('Stimulus/S 20'), np.str_('Stimulus/S 21'), np.str_('Stimulus/S 22'), np.str_('Stimulus/S 23'), np.str_('Stimulus/S 24'), np.str_('Stimulus/S 25'), np.str_('Stimulus/S 30'), np.str_('Stimulus/S 31'), np.str_('Stimulus/S 33'), np.str_('Stimulus/S 34'), np.str_('Stimulus/S 35'), np.str_('Stimulus/S51'), np.str_('Stimulus/S52'), np.str_('Stimulus/S53'), np.str_('Stimulus/Start'), np.str_('UserDefined/Blink')]\n",
      "    Using multitaper spectrum estimation with 7 DPSS windows\n",
      "Used Annotations descriptions: [np.str_('New Segment/'), np.str_('Stimulus/R  1'), np.str_('Stimulus/R  3'), np.str_('Stimulus/R  4'), np.str_('Stimulus/S  1'), np.str_('Stimulus/S 10'), np.str_('Stimulus/S 11'), np.str_('Stimulus/S 12'), np.str_('Stimulus/S 13'), np.str_('Stimulus/S 14'), np.str_('Stimulus/S 15'), np.str_('Stimulus/S 16'), np.str_('Stimulus/S 17'), np.str_('Stimulus/S 20'), np.str_('Stimulus/S 21'), np.str_('Stimulus/S 22'), np.str_('Stimulus/S 23'), np.str_('Stimulus/S 24'), np.str_('Stimulus/S 25'), np.str_('Stimulus/S 27'), np.str_('Stimulus/S 30'), np.str_('Stimulus/S 31'), np.str_('Stimulus/S 34'), np.str_('Stimulus/S 35'), np.str_('Stimulus/S 37'), np.str_('Stimulus/S41'), np.str_('Stimulus/S42'), np.str_('Stimulus/S43'), np.str_('Stimulus/S51'), np.str_('Stimulus/S52'), np.str_('Stimulus/S53'), np.str_('Stimulus/Start'), np.str_('UserDefined/Blink')]\n",
      "    Using multitaper spectrum estimation with 7 DPSS windows\n",
      "Used Annotations descriptions: [np.str_('New Segment/'), np.str_('Stimulus/R  1'), np.str_('Stimulus/R  3'), np.str_('Stimulus/R  4'), np.str_('Stimulus/S  1'), np.str_('Stimulus/S 10'), np.str_('Stimulus/S 11'), np.str_('Stimulus/S 12'), np.str_('Stimulus/S 14'), np.str_('Stimulus/S 15'), np.str_('Stimulus/S 16'), np.str_('Stimulus/S 17'), np.str_('Stimulus/S 20'), np.str_('Stimulus/S 21'), np.str_('Stimulus/S 22'), np.str_('Stimulus/S 24'), np.str_('Stimulus/S 25'), np.str_('Stimulus/S 30'), np.str_('Stimulus/S 31'), np.str_('Stimulus/S 34'), np.str_('Stimulus/S 35'), np.str_('Stimulus/S41'), np.str_('Stimulus/S51'), np.str_('Stimulus/S52'), np.str_('Stimulus/S53'), np.str_('Stimulus/Start'), np.str_('UserDefined/Blink')]\n",
      "    Using multitaper spectrum estimation with 7 DPSS windows\n",
      "Used Annotations descriptions: [np.str_('New Segment/'), np.str_('Stimulus/R  1'), np.str_('Stimulus/R  3'), np.str_('Stimulus/R  4'), np.str_('Stimulus/S  1'), np.str_('Stimulus/S 10'), np.str_('Stimulus/S 11'), np.str_('Stimulus/S 12'), np.str_('Stimulus/S 13'), np.str_('Stimulus/S 14'), np.str_('Stimulus/S 15'), np.str_('Stimulus/S 16'), np.str_('Stimulus/S 17'), np.str_('Stimulus/S 20'), np.str_('Stimulus/S 21'), np.str_('Stimulus/S 22'), np.str_('Stimulus/S 23'), np.str_('Stimulus/S 24'), np.str_('Stimulus/S 25'), np.str_('Stimulus/S 27'), np.str_('Stimulus/S 30'), np.str_('Stimulus/S 31'), np.str_('Stimulus/S 33'), np.str_('Stimulus/S 34'), np.str_('Stimulus/S 35'), np.str_('Stimulus/S 37'), np.str_('Stimulus/S41'), np.str_('Stimulus/S42'), np.str_('Stimulus/S43'), np.str_('Stimulus/S51'), np.str_('Stimulus/S52'), np.str_('Stimulus/S53'), np.str_('Stimulus/Start'), np.str_('UserDefined/Blink')]\n",
      "    Using multitaper spectrum estimation with 7 DPSS windows\n",
      "(547, 62, 39) (461, 62, 39)\n"
     ]
    }
   ],
   "execution_count": 5
  },
  {
   "cell_type": "markdown",
   "id": "fb680c27",
   "metadata": {},
   "source": [
    "## 3  Train models"
   ]
  },
  {
   "cell_type": "code",
   "id": "91fab2c9",
   "metadata": {
    "ExecuteTime": {
     "end_time": "2025-05-20T14:00:09.267121Z",
     "start_time": "2025-05-20T14:00:05.780663Z"
    }
   },
   "source": [
    "from ocd_classification.trainers.nn_trainer import train_nn, save_model as save_torch\n",
    "from ocd_classification.trainers.ml_trainer import train_ml\n",
    "\n",
    "# NN\n",
    "nn_model = train_nn(X_tr, y_tr, X_val, y_val, cfg=CFG['nn'])\n",
    "save_torch(nn_model, OUT_DIR / 'nn_model.pt')\n",
    "\n",
    "# ML\n",
    "ml_models = train_ml(X_tr, y_tr, X_val, y_val, cfg=CFG['ml'])\n",
    "with open(OUT_DIR / 'val_metrics.json', 'w') as f:\n",
    "    json.dump(ml_models.get('metrics', {}), f, indent=2)\n",
    "for name, m in ml_models.items():\n",
    "    if name == 'metrics': continue\n",
    "    joblib.dump(m, OUT_DIR / f'{name}.joblib')"
   ],
   "outputs": [
    {
     "name": "stderr",
     "output_type": "stream",
     "text": [
      "/Users/ilyamikheev/Library/Caches/pypoetry/virtualenvs/ocd-classification-2Pw0B5RN-py3.13/lib/python3.13/site-packages/tqdm/auto.py:21: TqdmWarning: IProgress not found. Please update jupyter and ipywidgets. See https://ipywidgets.readthedocs.io/en/stable/user_install.html\n",
      "  from .autonotebook import tqdm as notebook_tqdm\n",
      "2025-05-20 17:00:06,748 INFO: E00  loss 0.2442/3.5083  acc 0.952/0.369\n",
      "2025-05-20 17:00:06,937 INFO: E01  loss 0.0008/9.6528  acc 1.000/0.369\n",
      "2025-05-20 17:00:07,124 INFO: E02  loss 0.0002/21.4680  acc 1.000/0.371\n",
      "2025-05-20 17:00:07,318 INFO: E03  loss 0.0001/22.9459  acc 1.000/0.373\n",
      "2025-05-20 17:00:07,515 INFO: E04  loss 0.0000/22.1967  acc 1.000/0.373\n",
      "2025-05-20 17:00:07,734 INFO: E05  loss 0.0000/21.4437  acc 1.000/0.373\n",
      "2025-05-20 17:00:07,954 INFO: E06  loss 0.0000/21.4421  acc 1.000/0.373\n",
      "2025-05-20 17:00:08,170 INFO: E07  loss 0.0000/21.4396  acc 1.000/0.373\n",
      "2025-05-20 17:00:08,391 INFO: E08  loss 0.0000/20.3102  acc 1.000/0.373\n",
      "2025-05-20 17:00:08,610 INFO: E09  loss 0.0000/19.3332  acc 1.000/0.373\n",
      "2025-05-20 17:00:08,613 INFO: Saved model → output/nn_model.pt\n",
      "2025-05-20 17:00:08,614 INFO: Training logreg\n",
      "/Users/ilyamikheev/Library/Caches/pypoetry/virtualenvs/ocd-classification-2Pw0B5RN-py3.13/lib/python3.13/site-packages/sklearn/linear_model/_linear_loss.py:200: RuntimeWarning: divide by zero encountered in matmul\n",
      "  raw_prediction = X @ weights + intercept\n",
      "/Users/ilyamikheev/Library/Caches/pypoetry/virtualenvs/ocd-classification-2Pw0B5RN-py3.13/lib/python3.13/site-packages/sklearn/linear_model/_linear_loss.py:200: RuntimeWarning: overflow encountered in matmul\n",
      "  raw_prediction = X @ weights + intercept\n",
      "/Users/ilyamikheev/Library/Caches/pypoetry/virtualenvs/ocd-classification-2Pw0B5RN-py3.13/lib/python3.13/site-packages/sklearn/linear_model/_linear_loss.py:200: RuntimeWarning: invalid value encountered in matmul\n",
      "  raw_prediction = X @ weights + intercept\n",
      "/Users/ilyamikheev/Library/Caches/pypoetry/virtualenvs/ocd-classification-2Pw0B5RN-py3.13/lib/python3.13/site-packages/sklearn/linear_model/_linear_loss.py:209: RuntimeWarning: divide by zero encountered in matmul\n",
      "  norm2_w = weights @ weights if weights.ndim == 1 else squared_norm(weights)\n",
      "/Users/ilyamikheev/Library/Caches/pypoetry/virtualenvs/ocd-classification-2Pw0B5RN-py3.13/lib/python3.13/site-packages/sklearn/linear_model/_linear_loss.py:209: RuntimeWarning: overflow encountered in matmul\n",
      "  norm2_w = weights @ weights if weights.ndim == 1 else squared_norm(weights)\n",
      "/Users/ilyamikheev/Library/Caches/pypoetry/virtualenvs/ocd-classification-2Pw0B5RN-py3.13/lib/python3.13/site-packages/sklearn/linear_model/_linear_loss.py:209: RuntimeWarning: invalid value encountered in matmul\n",
      "  norm2_w = weights @ weights if weights.ndim == 1 else squared_norm(weights)\n",
      "/Users/ilyamikheev/Library/Caches/pypoetry/virtualenvs/ocd-classification-2Pw0B5RN-py3.13/lib/python3.13/site-packages/sklearn/linear_model/_linear_loss.py:330: RuntimeWarning: divide by zero encountered in matmul\n",
      "  grad[:n_features] = X.T @ grad_pointwise + l2_reg_strength * weights\n",
      "/Users/ilyamikheev/Library/Caches/pypoetry/virtualenvs/ocd-classification-2Pw0B5RN-py3.13/lib/python3.13/site-packages/sklearn/linear_model/_linear_loss.py:330: RuntimeWarning: overflow encountered in matmul\n",
      "  grad[:n_features] = X.T @ grad_pointwise + l2_reg_strength * weights\n",
      "/Users/ilyamikheev/Library/Caches/pypoetry/virtualenvs/ocd-classification-2Pw0B5RN-py3.13/lib/python3.13/site-packages/sklearn/linear_model/_linear_loss.py:330: RuntimeWarning: invalid value encountered in matmul\n",
      "  grad[:n_features] = X.T @ grad_pointwise + l2_reg_strength * weights\n",
      "2025-05-20 17:00:08,621 INFO: Training random_forest\n",
      "2025-05-20 17:00:08,802 INFO: Training svm\n",
      "2025-05-20 17:00:08,875 INFO: Training lightgbm\n"
     ]
    },
    {
     "name": "stdout",
     "output_type": "stream",
     "text": [
      "[LightGBM] [Info] Number of positive: 264, number of negative: 283\n",
      "[LightGBM] [Info] Auto-choosing col-wise multi-threading, the overhead of testing was 0.014340 seconds.\n",
      "You can set `force_col_wise=true` to remove the overhead.\n",
      "[LightGBM] [Info] Total Bins 389590\n",
      "[LightGBM] [Info] Number of data points in the train set: 547, number of used features: 2418\n",
      "[LightGBM] [Info] [binary:BoostFromScore]: pavg=0.482633 -> initscore=-0.069498\n",
      "[LightGBM] [Info] Start training from score -0.069498\n",
      "[LightGBM] [Warning] No further splits with positive gain, best gain: -inf\n",
      "[LightGBM] [Warning] No further splits with positive gain, best gain: -inf\n",
      "[LightGBM] [Warning] No further splits with positive gain, best gain: -inf\n",
      "[LightGBM] [Warning] No further splits with positive gain, best gain: -inf\n",
      "[LightGBM] [Warning] No further splits with positive gain, best gain: -inf\n",
      "[LightGBM] [Warning] No further splits with positive gain, best gain: -inf\n",
      "[LightGBM] [Warning] No further splits with positive gain, best gain: -inf\n",
      "[LightGBM] [Warning] No further splits with positive gain, best gain: -inf\n",
      "[LightGBM] [Warning] No further splits with positive gain, best gain: -inf\n",
      "[LightGBM] [Warning] No further splits with positive gain, best gain: -inf\n",
      "[LightGBM] [Warning] No further splits with positive gain, best gain: -inf\n",
      "[LightGBM] [Warning] No further splits with positive gain, best gain: -inf\n",
      "[LightGBM] [Warning] No further splits with positive gain, best gain: -inf\n",
      "[LightGBM] [Warning] No further splits with positive gain, best gain: -inf\n",
      "[LightGBM] [Warning] No further splits with positive gain, best gain: -inf\n",
      "[LightGBM] [Warning] No further splits with positive gain, best gain: -inf\n",
      "[LightGBM] [Warning] No further splits with positive gain, best gain: -inf\n",
      "[LightGBM] [Warning] No further splits with positive gain, best gain: -inf\n",
      "[LightGBM] [Warning] No further splits with positive gain, best gain: -inf\n",
      "[LightGBM] [Warning] No further splits with positive gain, best gain: -inf\n",
      "[LightGBM] [Warning] No further splits with positive gain, best gain: -inf\n",
      "[LightGBM] [Warning] No further splits with positive gain, best gain: -inf\n",
      "[LightGBM] [Warning] No further splits with positive gain, best gain: -inf\n",
      "[LightGBM] [Warning] No further splits with positive gain, best gain: -inf\n",
      "[LightGBM] [Warning] No further splits with positive gain, best gain: -inf\n",
      "[LightGBM] [Warning] No further splits with positive gain, best gain: -inf\n",
      "[LightGBM] [Warning] No further splits with positive gain, best gain: -inf\n",
      "[LightGBM] [Warning] No further splits with positive gain, best gain: -inf\n",
      "[LightGBM] [Warning] No further splits with positive gain, best gain: -inf\n",
      "[LightGBM] [Warning] No further splits with positive gain, best gain: -inf\n",
      "[LightGBM] [Warning] No further splits with positive gain, best gain: -inf\n",
      "[LightGBM] [Warning] No further splits with positive gain, best gain: -inf\n",
      "[LightGBM] [Warning] No further splits with positive gain, best gain: -inf\n",
      "[LightGBM] [Warning] No further splits with positive gain, best gain: -inf\n",
      "[LightGBM] [Warning] No further splits with positive gain, best gain: -inf\n",
      "[LightGBM] [Warning] No further splits with positive gain, best gain: -inf\n",
      "[LightGBM] [Warning] No further splits with positive gain, best gain: -inf\n",
      "[LightGBM] [Warning] No further splits with positive gain, best gain: -inf\n",
      "[LightGBM] [Warning] No further splits with positive gain, best gain: -inf\n",
      "[LightGBM] [Warning] No further splits with positive gain, best gain: -inf\n",
      "[LightGBM] [Warning] No further splits with positive gain, best gain: -inf\n",
      "[LightGBM] [Warning] No further splits with positive gain, best gain: -inf\n",
      "[LightGBM] [Warning] No further splits with positive gain, best gain: -inf\n",
      "[LightGBM] [Warning] No further splits with positive gain, best gain: -inf\n",
      "[LightGBM] [Warning] No further splits with positive gain, best gain: -inf\n",
      "[LightGBM] [Warning] No further splits with positive gain, best gain: -inf\n",
      "[LightGBM] [Warning] No further splits with positive gain, best gain: -inf\n",
      "[LightGBM] [Warning] No further splits with positive gain, best gain: -inf\n",
      "[LightGBM] [Warning] No further splits with positive gain, best gain: -inf\n",
      "[LightGBM] [Warning] No further splits with positive gain, best gain: -inf\n",
      "[LightGBM] [Warning] No further splits with positive gain, best gain: -inf\n",
      "[LightGBM] [Warning] No further splits with positive gain, best gain: -inf\n",
      "[LightGBM] [Warning] No further splits with positive gain, best gain: -inf\n",
      "[LightGBM] [Warning] No further splits with positive gain, best gain: -inf\n",
      "[LightGBM] [Warning] No further splits with positive gain, best gain: -inf\n",
      "[LightGBM] [Warning] No further splits with positive gain, best gain: -inf\n",
      "[LightGBM] [Warning] No further splits with positive gain, best gain: -inf\n",
      "[LightGBM] [Warning] No further splits with positive gain, best gain: -inf\n",
      "[LightGBM] [Warning] No further splits with positive gain, best gain: -inf\n",
      "[LightGBM] [Warning] No further splits with positive gain, best gain: -inf\n",
      "[LightGBM] [Warning] No further splits with positive gain, best gain: -inf\n",
      "[LightGBM] [Warning] No further splits with positive gain, best gain: -inf\n",
      "[LightGBM] [Warning] No further splits with positive gain, best gain: -inf\n",
      "[LightGBM] [Warning] No further splits with positive gain, best gain: -inf\n",
      "[LightGBM] [Warning] No further splits with positive gain, best gain: -inf\n",
      "[LightGBM] [Warning] No further splits with positive gain, best gain: -inf\n",
      "[LightGBM] [Warning] No further splits with positive gain, best gain: -inf\n",
      "[LightGBM] [Warning] No further splits with positive gain, best gain: -inf\n",
      "[LightGBM] [Warning] No further splits with positive gain, best gain: -inf\n",
      "[LightGBM] [Warning] No further splits with positive gain, best gain: -inf\n",
      "[LightGBM] [Warning] No further splits with positive gain, best gain: -inf\n",
      "[LightGBM] [Warning] No further splits with positive gain, best gain: -inf\n",
      "[LightGBM] [Warning] No further splits with positive gain, best gain: -inf\n",
      "[LightGBM] [Warning] No further splits with positive gain, best gain: -inf\n",
      "[LightGBM] [Warning] No further splits with positive gain, best gain: -inf\n",
      "[LightGBM] [Warning] No further splits with positive gain, best gain: -inf\n",
      "[LightGBM] [Warning] No further splits with positive gain, best gain: -inf\n",
      "[LightGBM] [Warning] No further splits with positive gain, best gain: -inf\n",
      "[LightGBM] [Warning] No further splits with positive gain, best gain: -inf\n",
      "[LightGBM] [Warning] No further splits with positive gain, best gain: -inf\n",
      "[LightGBM] [Warning] No further splits with positive gain, best gain: -inf\n"
     ]
    },
    {
     "name": "stderr",
     "output_type": "stream",
     "text": [
      "/Users/ilyamikheev/Library/Caches/pypoetry/virtualenvs/ocd-classification-2Pw0B5RN-py3.13/lib/python3.13/site-packages/sklearn/utils/extmath.py:203: RuntimeWarning: divide by zero encountered in matmul\n",
      "  ret = a @ b\n",
      "/Users/ilyamikheev/Library/Caches/pypoetry/virtualenvs/ocd-classification-2Pw0B5RN-py3.13/lib/python3.13/site-packages/sklearn/utils/extmath.py:203: RuntimeWarning: overflow encountered in matmul\n",
      "  ret = a @ b\n",
      "/Users/ilyamikheev/Library/Caches/pypoetry/virtualenvs/ocd-classification-2Pw0B5RN-py3.13/lib/python3.13/site-packages/sklearn/utils/extmath.py:203: RuntimeWarning: invalid value encountered in matmul\n",
      "  ret = a @ b\n",
      "2025-05-20 17:00:09,204 INFO: logreg val acc: 0.3666\n",
      "2025-05-20 17:00:09,207 INFO: random_forest val acc: 0.3731\n",
      "2025-05-20 17:00:09,245 INFO: svm val acc: 0.4273\n",
      "/Users/ilyamikheev/Library/Caches/pypoetry/virtualenvs/ocd-classification-2Pw0B5RN-py3.13/lib/python3.13/site-packages/sklearn/utils/validation.py:2739: UserWarning: X does not have valid feature names, but LGBMClassifier was fitted with feature names\n",
      "  warnings.warn(\n",
      "2025-05-20 17:00:09,251 INFO: lightgbm val acc: 0.3948\n",
      "2025-05-20 17:00:09,251 INFO: ML training complete\n"
     ]
    },
    {
     "name": "stdout",
     "output_type": "stream",
     "text": [
      "[LightGBM] [Warning] No further splits with positive gain, best gain: -inf\n",
      "[LightGBM] [Warning] No further splits with positive gain, best gain: -inf\n",
      "[LightGBM] [Warning] No further splits with positive gain, best gain: -inf\n",
      "[LightGBM] [Warning] No further splits with positive gain, best gain: -inf\n",
      "[LightGBM] [Warning] No further splits with positive gain, best gain: -inf\n",
      "[LightGBM] [Warning] No further splits with positive gain, best gain: -inf\n",
      "[LightGBM] [Warning] No further splits with positive gain, best gain: -inf\n",
      "[LightGBM] [Warning] No further splits with positive gain, best gain: -inf\n",
      "[LightGBM] [Warning] No further splits with positive gain, best gain: -inf\n",
      "[LightGBM] [Warning] No further splits with positive gain, best gain: -inf\n",
      "[LightGBM] [Warning] No further splits with positive gain, best gain: -inf\n",
      "[LightGBM] [Warning] No further splits with positive gain, best gain: -inf\n",
      "[LightGBM] [Warning] No further splits with positive gain, best gain: -inf\n",
      "[LightGBM] [Warning] No further splits with positive gain, best gain: -inf\n",
      "[LightGBM] [Warning] No further splits with positive gain, best gain: -inf\n",
      "[LightGBM] [Warning] No further splits with positive gain, best gain: -inf\n",
      "[LightGBM] [Warning] No further splits with positive gain, best gain: -inf\n",
      "[LightGBM] [Warning] No further splits with positive gain, best gain: -inf\n",
      "[LightGBM] [Warning] No further splits with positive gain, best gain: -inf\n"
     ]
    }
   ],
   "execution_count": 6
  },
  {
   "cell_type": "markdown",
   "id": "d4b14e76",
   "metadata": {},
   "source": [
    "## 4  Preprocess & normalise (test)"
   ]
  },
  {
   "cell_type": "code",
   "id": "c41c5312",
   "metadata": {
    "ExecuteTime": {
     "end_time": "2025-05-20T14:00:11.659797Z",
     "start_time": "2025-05-20T14:00:09.292680Z"
    }
   },
   "source": [
    "X_test, y_test = preprocess_data(test_d, CFG['preprocess'], mode='test')[:2]\n",
    "X_test, = normalize_data(X_test)"
   ],
   "outputs": [
    {
     "name": "stdout",
     "output_type": "stream",
     "text": [
      "Used Annotations descriptions: [np.str_('New Segment/'), np.str_('Stimulus/R  1'), np.str_('Stimulus/R  3'), np.str_('Stimulus/R  4'), np.str_('Stimulus/S  1'), np.str_('Stimulus/S 10'), np.str_('Stimulus/S 11'), np.str_('Stimulus/S 12'), np.str_('Stimulus/S 14'), np.str_('Stimulus/S 15'), np.str_('Stimulus/S 16'), np.str_('Stimulus/S 17'), np.str_('Stimulus/S 20'), np.str_('Stimulus/S 21'), np.str_('Stimulus/S 22'), np.str_('Stimulus/S 24'), np.str_('Stimulus/S 25'), np.str_('Stimulus/S 30'), np.str_('Stimulus/S 31'), np.str_('Stimulus/S 34'), np.str_('Stimulus/S 35'), np.str_('Stimulus/S41'), np.str_('Stimulus/S51'), np.str_('Stimulus/S52'), np.str_('Stimulus/S53'), np.str_('Stimulus/Start'), np.str_('UserDefined/Blink')]\n",
      "    Using multitaper spectrum estimation with 7 DPSS windows\n",
      "Used Annotations descriptions: [np.str_('New Segment/'), np.str_('Stimulus/R  1'), np.str_('Stimulus/R  3'), np.str_('Stimulus/R  4'), np.str_('Stimulus/S  1'), np.str_('Stimulus/S 10'), np.str_('Stimulus/S 11'), np.str_('Stimulus/S 12'), np.str_('Stimulus/S 13'), np.str_('Stimulus/S 14'), np.str_('Stimulus/S 15'), np.str_('Stimulus/S 16'), np.str_('Stimulus/S 17'), np.str_('Stimulus/S 20'), np.str_('Stimulus/S 21'), np.str_('Stimulus/S 22'), np.str_('Stimulus/S 23'), np.str_('Stimulus/S 24'), np.str_('Stimulus/S 25'), np.str_('Stimulus/S 27'), np.str_('Stimulus/S 30'), np.str_('Stimulus/S 31'), np.str_('Stimulus/S 33'), np.str_('Stimulus/S 34'), np.str_('Stimulus/S 35'), np.str_('Stimulus/S 37'), np.str_('Stimulus/S41'), np.str_('Stimulus/S42'), np.str_('Stimulus/S43'), np.str_('Stimulus/S51'), np.str_('Stimulus/S52'), np.str_('Stimulus/S53'), np.str_('Stimulus/Start'), np.str_('UserDefined/Blink')]\n",
      "    Using multitaper spectrum estimation with 7 DPSS windows\n"
     ]
    }
   ],
   "execution_count": 7
  },
  {
   "cell_type": "markdown",
   "id": "17cbe854",
   "metadata": {},
   "source": [
    "## 5  Evaluate all models on test"
   ]
  },
  {
   "cell_type": "code",
   "id": "a11a60bd",
   "metadata": {
    "ExecuteTime": {
     "end_time": "2025-05-20T14:00:11.836868Z",
     "start_time": "2025-05-20T14:00:11.680820Z"
    }
   },
   "source": [
    "from ocd_classification.trainers.nn_trainer import load_model as load_nn\n",
    "from ocd_classification.evaluate.evaluate import evaluate, save_results\n",
    "\n",
    "models = {'nn': load_nn(OUT_DIR / 'nn_model.pt', input_shape=X_test.shape[1:])}\n",
    "for p in OUT_DIR.glob('*.joblib'):\n",
    "    models[p.stem] = joblib.load(p)\n",
    "\n",
    "results = {k: evaluate(m, X_test, y_test) for k,m in models.items()}\n",
    "pprint.pp(results)\n",
    "\n",
    "save_results(results, OUT_DIR / \"test_metrics.json\")"
   ],
   "outputs": [
    {
     "name": "stderr",
     "output_type": "stream",
     "text": [
      "2025-05-20 17:00:11,686 INFO: Loaded model ← output/nn_model.pt\n"
     ]
    },
    {
     "name": "stdout",
     "output_type": "stream",
     "text": [
      "{'nn': {'accuracy': 0.6746203904555315,\n",
      "        'precision': 0.528169014084507,\n",
      "        'recall': 0.9036144578313253,\n",
      "        'f1': 0.6666666666666666,\n",
      "        'roc_auc': np.float64(0.8529405758627732),\n",
      "        'confusion_matrix': array([[161, 134],\n",
      "       [ 16, 150]]),\n",
      "        'true_negatives': 161,\n",
      "        'false_positives': 134,\n",
      "        'false_negatives': 16,\n",
      "        'true_positives': 150},\n",
      " 'svm': {'accuracy': 0.7982646420824295,\n",
      "         'precision': 0.8288288288288288,\n",
      "         'recall': 0.5542168674698795,\n",
      "         'f1': 0.6642599277978339,\n",
      "         'roc_auc': np.float64(0.880314478251991),\n",
      "         'confusion_matrix': array([[276,  19],\n",
      "       [ 74,  92]]),\n",
      "         'true_negatives': 276,\n",
      "         'false_positives': 19,\n",
      "         'false_negatives': 74,\n",
      "         'true_positives': 92},\n",
      " 'logreg': {'accuracy': 0.7223427331887202,\n",
      "            'precision': 0.5811965811965812,\n",
      "            'recall': 0.8192771084337349,\n",
      "            'f1': 0.68,\n",
      "            'roc_auc': np.float64(0.842393302021646),\n",
      "            'confusion_matrix': array([[197,  98],\n",
      "       [ 30, 136]]),\n",
      "            'true_negatives': 197,\n",
      "            'false_positives': 98,\n",
      "            'false_negatives': 30,\n",
      "            'true_positives': 136},\n",
      " 'lightgbm': {'accuracy': 0.561822125813449,\n",
      "              'precision': 0.39285714285714285,\n",
      "              'recall': 0.39759036144578314,\n",
      "              'f1': 0.39520958083832336,\n",
      "              'roc_auc': np.float64(0.5259138247906882),\n",
      "              'confusion_matrix': array([[193, 102],\n",
      "       [100,  66]]),\n",
      "              'true_negatives': 193,\n",
      "              'false_positives': 102,\n",
      "              'false_negatives': 100,\n",
      "              'true_positives': 66},\n",
      " 'random_forest': {'accuracy': 0.806941431670282,\n",
      "                   'precision': 0.9230769230769231,\n",
      "                   'recall': 0.5060240963855421,\n",
      "                   'f1': 0.6536964980544747,\n",
      "                   'roc_auc': np.float64(0.9223402082907902),\n",
      "                   'confusion_matrix': array([[288,   7],\n",
      "       [ 82,  84]]),\n",
      "                   'true_negatives': 288,\n",
      "                   'false_positives': 7,\n",
      "                   'false_negatives': 82,\n",
      "                   'true_positives': 84}}\n"
     ]
    },
    {
     "name": "stderr",
     "output_type": "stream",
     "text": [
      "/Users/ilyamikheev/Library/Caches/pypoetry/virtualenvs/ocd-classification-2Pw0B5RN-py3.13/lib/python3.13/site-packages/sklearn/utils/extmath.py:203: RuntimeWarning: divide by zero encountered in matmul\n",
      "  ret = a @ b\n",
      "/Users/ilyamikheev/Library/Caches/pypoetry/virtualenvs/ocd-classification-2Pw0B5RN-py3.13/lib/python3.13/site-packages/sklearn/utils/extmath.py:203: RuntimeWarning: overflow encountered in matmul\n",
      "  ret = a @ b\n",
      "/Users/ilyamikheev/Library/Caches/pypoetry/virtualenvs/ocd-classification-2Pw0B5RN-py3.13/lib/python3.13/site-packages/sklearn/utils/extmath.py:203: RuntimeWarning: invalid value encountered in matmul\n",
      "  ret = a @ b\n",
      "/Users/ilyamikheev/Library/Caches/pypoetry/virtualenvs/ocd-classification-2Pw0B5RN-py3.13/lib/python3.13/site-packages/sklearn/utils/validation.py:2739: UserWarning: X does not have valid feature names, but LGBMClassifier was fitted with feature names\n",
      "  warnings.warn(\n"
     ]
    }
   ],
   "execution_count": 8
  }
 ],
 "metadata": {},
 "nbformat": 4,
 "nbformat_minor": 5
}
